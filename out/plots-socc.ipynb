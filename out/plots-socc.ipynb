{
 "cells": [
  {
   "cell_type": "markdown",
   "metadata": {
    "deletable": true,
    "editable": true
   },
   "source": [
    "# Time-Killer Experiments"
   ]
  },
  {
   "cell_type": "markdown",
   "metadata": {
    "deletable": true,
    "editable": true
   },
   "source": [
    "## Dependencies"
   ]
  },
  {
   "cell_type": "code",
   "execution_count": 53,
   "metadata": {
    "collapsed": false,
    "deletable": true,
    "editable": true,
    "scrolled": false
   },
   "outputs": [],
   "source": [
    "#import seaborn as sns\n",
    "import pandas as pd\n",
    "import numpy as np\n",
    "import matplotlib as mpl\n",
    "import matplotlib.pyplot as plt\n",
    "import os\n",
    "%matplotlib inline\n",
    "\n",
    "from math import sqrt\n",
    "SPINE_COLOR = 'gray'"
   ]
  },
  {
   "cell_type": "markdown",
   "metadata": {
    "deletable": true,
    "editable": true
   },
   "source": [
    "## Latex Style (Optional)"
   ]
  },
  {
   "cell_type": "code",
   "execution_count": 2,
   "metadata": {
    "collapsed": false,
    "deletable": true,
    "editable": true,
    "hideCode": true,
    "hideOutput": true,
    "hidePrompt": false
   },
   "outputs": [
    {
     "data": {
      "text/plain": [
       "<matplotlib.figure.Figure at 0x1067b2310>"
      ]
     },
     "metadata": {},
     "output_type": "display_data"
    }
   ],
   "source": [
    "\n",
    "# Style parameters\n",
    "pd.set_option('display.mpl_style', 'default') \n",
    "pd.set_option('display.width', 5000) \n",
    "pd.set_option('display.max_columns', 50)\n",
    "pd.options.display.mpl_style = 'default'\n",
    "new_style = {'grid': True}\n",
    "mpl.rc('axes', **new_style)\n",
    "\n",
    "# cool colors\n",
    "tableau20 = [(31, 119, 180), (174, 199, 232), (255, 127, 14), (255, 187, 120),    \n",
    "             (44, 160, 44), (152, 223, 138), (214, 39, 40), (255, 152, 150),    \n",
    "             (148, 103, 189), (197, 176, 213), (140, 86, 75), (196, 156, 148),    \n",
    "             (227, 119, 194), (247, 182, 210), (127, 127, 127), (199, 199, 199),    \n",
    "             (188, 189, 34), (219, 219, 141), (23, 190, 207), (158, 218, 229)]  \n",
    "\n",
    "#font = {'family' : 'normal',\n",
    "#        'weight' : 'bold',\n",
    "#        'size'   : 10}\n",
    "\n",
    "#mpl.rc('font', **font)\n",
    "\n",
    "#Direct input \n",
    "plt.rcParams['text.latex.preamble']=[r\"\\usepackage{lmodern}\"]\n",
    "#Options\n",
    "params = {'text.usetex' : True,\n",
    "          'font.size' : 10,\n",
    "          'font.family' : 'lmodern',\n",
    "          'text.latex.unicode': True,\n",
    "          }\n",
    "plt.rcParams.update(params) \n",
    "fig = plt.figure()\n",
    "\n",
    "#You must select the correct size of the plot in advance\n",
    "#fig.set_size_inches(3.54,3.54) \n",
    "\n",
    "def legendaryFormat(leg, resize=True):\n",
    "    # The frame is matplotlib.patches.Rectangle instance surrounding the legend.\n",
    "    frame = legend.get_frame()\n",
    "    frame.set_facecolor('white')\n",
    "    frame.set_edgecolor('white')\n",
    "\n",
    "    # Set the fontsize\n",
    "    if(resize):\n",
    "        for label in legend.get_texts():\n",
    "            label.set_fontsize('large')\n",
    "        for label in legend.get_lines():\n",
    "            label.set_linewidth(2)  # the legend line width\n",
    "        \n",
    "        \n",
    "def latexify(fig_width=None, fig_height=None, columns=1):\n",
    "    \"\"\"Set up matplotlib's RC params for LaTeX plotting.\n",
    "    Call this before plotting a figure.\n",
    "\n",
    "    Parameters\n",
    "    ----------\n",
    "    fig_width : float, optional, inches\n",
    "    fig_height : float,  optional, inches\n",
    "    columns : {1, 2}\n",
    "    \"\"\"\n",
    "\n",
    "    # code adapted from http://www.scipy.org/Cookbook/Matplotlib/LaTeX_Examples\n",
    "\n",
    "    # Width and max height in inches for IEEE journals taken from\n",
    "    # computer.org/cms/Computer.org/Journal%20templates/transactions_art_guide.pdf\n",
    "\n",
    "    assert(columns in [1,2])\n",
    "\n",
    "    if fig_width is None:\n",
    "        fig_width = 3.39 if columns==1 else 6.9 # width in inches\n",
    "\n",
    "    if fig_height is None:\n",
    "        golden_mean = (sqrt(5)-1.0)/2.0    # Aesthetic ratio\n",
    "        fig_height = fig_width*golden_mean # height in inches\n",
    "\n",
    "    MAX_HEIGHT_INCHES = 8.0\n",
    "    if fig_height > MAX_HEIGHT_INCHES:\n",
    "        print(\"WARNING: fig_height too large:\" + fig_height + \n",
    "              \"so will reduce to\" + MAX_HEIGHT_INCHES + \"inches.\")\n",
    "        fig_height = MAX_HEIGHT_INCHES\n",
    "\n",
    "    params = {'backend': 'ps',\n",
    "              'text.latex.preamble': ['\\usepackage{gensymb}'],\n",
    "              'axes.labelsize': 8, # fontsize for x and y labels (was 10)\n",
    "              'axes.titlesize': 10,\n",
    "              'text.fontsize': 9, # was 10\n",
    "              'legend.fontsize': 8, # was 10\n",
    "              'xtick.labelsize': 8,\n",
    "              'ytick.labelsize': 8,\n",
    "              'font.family' : 'helvetica',\n",
    "              'text.usetex': True,\n",
    "              'figure.figsize': [fig_width,fig_height],\n",
    "              'font.family': 'serif'\n",
    "    }\n",
    "\n",
    "    mpl.rcParams.update(params)\n",
    "\n",
    "\n",
    "def format_axes(ax):\n",
    "\n",
    "    for spine in ['top', 'right']:\n",
    "        ax.spines[spine].set_visible(False)\n",
    "\n",
    "    for spine in ['left', 'bottom']:\n",
    "        ax.spines[spine].set_color(SPINE_COLOR)\n",
    "        ax.spines[spine].set_linewidth(0.5)\n",
    "\n",
    "    ax.xaxis.set_ticks_position('bottom')\n",
    "    ax.yaxis.set_ticks_position('left')\n",
    "\n",
    "    for axis in [ax.xaxis, ax.yaxis]:\n",
    "        axis.set_tick_params(direction='out', color=SPINE_COLOR)\n",
    "\n",
    "    return ax\n"
   ]
  },
  {
   "cell_type": "code",
   "execution_count": 3,
   "metadata": {
    "collapsed": true,
    "deletable": true,
    "editable": true,
    "hideCode": true,
    "hideOutput": true
   },
   "outputs": [],
   "source": [
    "%matplotlib inline"
   ]
  },
  {
   "cell_type": "code",
   "execution_count": 4,
   "metadata": {
    "collapsed": false,
    "deletable": true,
    "editable": true,
    "hideCode": true,
    "hideOutput": true
   },
   "outputs": [
    {
     "name": "stderr",
     "output_type": "stream",
     "text": [
      "/Users/carbone/anaconda/lib/python2.7/site-packages/matplotlib/__init__.py:855: UserWarning: text.fontsize is deprecated and replaced with font.size; please use the latter.\n",
      "  warnings.warn(self.msg_depr % (key, alt_key))\n"
     ]
    }
   ],
   "source": [
    "#run for latex-optimised generation\n",
    "latexify()"
   ]
  },
  {
   "cell_type": "markdown",
   "metadata": {
    "deletable": true,
    "editable": true,
    "slideshow": {
     "slide_type": "-"
    }
   },
   "source": [
    "## Data Preparation & Cleaning"
   ]
  },
  {
   "cell_type": "code",
   "execution_count": 65,
   "metadata": {
    "collapsed": false,
    "deletable": true,
    "editable": true
   },
   "outputs": [],
   "source": [
    "\n",
    "class ExpLoader():\n",
    "    @staticmethod\n",
    "    def enrich(str, df):\n",
    "        dirs = str.split('/');\n",
    "        df['experiment'] = dirs[2];\n",
    "        df['system'] = dirs[1];\n",
    "        return df\n",
    "    @staticmethod\n",
    "    def loadDataFrame(rootDir = 'experiments'):\n",
    "        dataDirs = filter(lambda y: [s for s in y[2] if \".csv\" in s],([x for x in os.walk(\"experiments\")]))\n",
    "        DF = reduce(lambda r1,r2: pd.concat([r1,r2]), \n",
    "                map(lambda d: enrich(d[0],  \n",
    "                reduce(lambda f1,f2: pd.concat([f1,f2]),\n",
    "                map(lambda x: pd.read_csv(d[0] +'/'+ x, delimiter=',', index_col=[1]),\n",
    "                    filter(lambda y: \".csv\" in y ,d[2])))), dataDirs))\n",
    "        DF['local time'] = DF['local_End'] - DF['window_Start']\n",
    "        DF['notif time'] = DF['window_End'] - DF['local_End']\n",
    "        DF['full time'] = DF['window_End'] - DF['window_Start']\n",
    "        DF['parallelism'] = DF.index\n",
    "        DF['step'] = DF['step'] - 1\n",
    "        return DF[(DF['step'] > 0) & (DF['step'] < 999999999)]\n",
    "    \n",
    "DF = ExpLoader.loadDataFrame()    "
   ]
  },
  {
   "cell_type": "markdown",
   "metadata": {
    "deletable": true,
    "editable": true
   },
   "source": [
    "# Visualization"
   ]
  },
  {
   "cell_type": "markdown",
   "metadata": {
    "deletable": true,
    "editable": true
   },
   "source": [
    "## Preperation"
   ]
  },
  {
   "cell_type": "code",
   "execution_count": 151,
   "metadata": {
    "collapsed": false,
    "deletable": true,
    "editable": true
   },
   "outputs": [],
   "source": [
    "class Alg:\n",
    "    pagerank = \"pagerank\"\n",
    "    connectedComponents = \"cc\"\n",
    "\n",
    "class ProgressType:\n",
    "    decentralized = \"watermarks\"\n",
    "    centralized = \"timely\"\n",
    "    \n",
    "class Aggregate:\n",
    "    full = 'full time'\n",
    "    notification = 'notif time'\n",
    "    computation = 'local time'\n",
    "    \n",
    "def filterDF(dataframe, *extrafilters):\n",
    "    newDF = dataframe;\n",
    "    for extrafilter in extrafilters:\n",
    "        newDF = extrafilter(newDF);\n",
    "    return newDF\n",
    "    \n",
    "def filterDF2(dataframe, alg, prog, *extrafilters):\n",
    "    return filterDF(dataframe[(dataframe[DF.experiment.name] == alg) & (dataframe[DF.system.name] == prog)], *extrafilters)\n",
    "\n",
    "class Filters:\n",
    "    @staticmethod\n",
    "    def highCap(agg, val, incl=False):\n",
    "        return (lambda dataframe: dataframe[(dataframe[agg] < val)]) if not incl else (lambda dataframe: dataframe[(dataframe[agg] <= val)])\n",
    "    @staticmethod\n",
    "    def lowCap(agg, val, incl=False):\n",
    "        return (lambda dataframe: dataframe[(dataframe[agg] > val)]) if not incl else (lambda dataframe: dataframe[(dataframe[agg] >= val)]);\n",
    "    @staticmethod\n",
    "    def ignore(agg, val):\n",
    "        return (lambda dataframe: dataframe[(dataframe[agg] != val)]);\n",
    "\n",
    "class ExpPlots:\n",
    "    @staticmethod\n",
    "    def box1(dataframe, col, grouped):\n",
    "        return dataframe.boxplot(column=col, by=grouped, meanline=True, showmeans=True, showcaps=True, showbox=True, showfliers=True, return_type='axes')\n",
    "    @staticmethod\n",
    "    def box(dataframe, col, grouped, axis):\n",
    "        dataframe.boxplot(column=col, by=grouped, meanline=True, showmeans=True, showcaps=True, showbox=True, showfliers=True, ax=axis)\n",
    "    @staticmethod\n",
    "    def boxPlots(dataframe1, dataframe2, col, grouped):\n",
    "        ax = ExpPlots.box1(dataframe1, col, grouped)\n",
    "        ExpPlots.box(dataframe2, col, grouped, ax)\n",
    "    "
   ]
  },
  {
   "cell_type": "markdown",
   "metadata": {
    "deletable": true,
    "editable": true
   },
   "source": [
    "## Exploration"
   ]
  },
  {
   "cell_type": "code",
   "execution_count": 149,
   "metadata": {
    "collapsed": false,
    "deletable": true,
    "editable": true
   },
   "outputs": [
    {
     "data": {
      "text/plain": [
       "<matplotlib.text.Text at 0x12730e1d0>"
      ]
     },
     "execution_count": 149,
     "metadata": {},
     "output_type": "execute_result"
    },
    {
     "data": {
      "image/png": "[encoded data removed]",
      "text/plain": [
       "<matplotlib.figure.Figure at 0x10ce4c4d0>"
      ]
     },
     "metadata": {},
     "output_type": "display_data"
    }
   ],
   "source": [
    "\n",
    "timelyCC = filterDF2(DF, Alg.connectedComponents, ProgressType.centralized, \n",
    "                        Filters.highCap(Aggregate.notification, 10000), \n",
    "                        Filters.lowCap(DF.step.name, 1));\n",
    "\n",
    "ExpPlots.box1(timelyCC, Aggregate.notification, DF.buffer_Interval.name);\n",
    "axes = plt.gca()\n",
    "#plt.tight_layout()\n",
    "plt.ylabel('Time (msec)')\n",
    "#plt.savefig('expnotif2.pdf', bbox_inches='tight')\n"
   ]
  },
  {
   "cell_type": "code",
   "execution_count": 173,
   "metadata": {
    "collapsed": false
   },
   "outputs": [
    {
     "data": {
      "text/plain": [
       "<matplotlib.text.Text at 0x12733db10>"
      ]
     },
     "execution_count": 173,
     "metadata": {},
     "output_type": "execute_result"
    },
    {
     "data": {
      "image/png": "[encoded data removed]",
      "text/plain": [
       "<matplotlib.figure.Figure at 0x109a0a650>"
      ]
     },
     "metadata": {},
     "output_type": "display_data"
    },
    {
     "data": {
      "image/png": "[encoded data removed]",
      "text/plain": [
       "<matplotlib.figure.Figure at 0x109a13950>"
      ]
     },
     "metadata": {},
     "output_type": "display_data"
    }
   ],
   "source": [
    "timelyCC = filterDF2(DF, Alg.pagerank, ProgressType.centralized, \n",
    "                        Filters.highCap(Aggregate.notification, 10000), \n",
    "                        Filters.lowCap(DF.step.name, 1),\n",
    "                        Filters.highCap(Aggregate.full, 10000));\n",
    "\n",
    "watermarksCC = filterDF2(DF, Alg.connectedComponents, ProgressType.centralized, \n",
    "                        Filters.highCap(Aggregate.notification, 10000), \n",
    "                        Filters.lowCap(DF.step.name, 1),\n",
    "                        Filters.highCap(Aggregate.full, 10000));\n",
    "\n",
    "ExpPlots.box1(timelyCC, Aggregate.notification, DF.operatorID.name)\n",
    "ExpPlots.box1(watermarksCC, Aggregate.notification, DF.operatorID.name)\n",
    "\n",
    "#ExpPlots.boxPlots(timelyCC, watermarksCC, Aggregate.full, DF.operatorID)\n",
    "#axes = plt.gca();\n",
    "#plt.tight_layout()\n",
    "plt.ylabel('Time (msec)')\n",
    "#plt.savefig('expnotif2.pdf', bbox_inches='tight')\n"
   ]
  },
  {
   "cell_type": "code",
   "execution_count": 4,
   "metadata": {
    "collapsed": false,
    "deletable": true,
    "editable": true
   },
   "outputs": [
    {
     "data": {
      "image/png": "[encoded data removed]",
      "text/plain": [
       "<matplotlib.figure.Figure at 0x108f17b10>"
      ]
     },
     "metadata": {},
     "output_type": "display_data"
    }
   ],
   "source": [
    "#timelyCC = DF[(DF['experiment'] == 'cc') & (DF['system'] == 'timely') & (DF['notif time'] < 5000)]    \n",
    "watermarksCC = DF[(DF['experiment'] == 'pagerank') & (DF['system'] == 'watermarks')& (DF['full time'] < 5000) \n",
    "                  & (DF['step'] != 9223372036854775807)  & (DF['step'] > 1)] \n",
    "\n",
    "#watermarksCC = DF[ (DF['system'] == 'watermarks')& (DF['notif time'] < 2000)] \n",
    "\n",
    "#timelyCC.boxplot(column='notif time', by='ctxid', meanline=True, showmeans=True, showcaps=True, showbox=True, showfliers=True)\n",
    "\n",
    "#watermarksCC.boxplot(column='notif time', by='ctxid', meanline=True, showmeans=True, showcaps=True, showbox=True, showfliers=True)\n",
    "\n",
    "watermarksCC.boxplot(column='notif time', by='operatorID', meanline=True, showmeans=True, showcaps=True, showbox=True, showfliers=True)\n",
    "\n",
    "#DFU = byWindow.unstack('ctxid');\n",
    "\n",
    "#fig, axes = subplots('notif time');\n",
    "\n",
    "#ax = DFU['notif time'].boxplot(subplots = True, meanline=True, showmeans=True, showcaps=True, showbox=True, showfliers=True)\n",
    "\n",
    "\n",
    "axes = plt.gca()\n",
    "#axes.set_ylim([0,90000])\n",
    "\n",
    "\n",
    "plt.tight_layout()\n",
    "plt.ylabel('Time (msec)')\n",
    "plt.savefig('expnotif2.pdf', bbox_inches='tight')\n"
   ]
  },
  {
   "cell_type": "code",
   "execution_count": null,
   "metadata": {
    "collapsed": true,
    "deletable": true,
    "editable": true
   },
   "outputs": [],
   "source": []
  }
 ],
 "metadata": {
  "kernelspec": {
   "display_name": "Python 2",
   "language": "python",
   "name": "python2"
  },
  "language_info": {
   "codemirror_mode": {
    "name": "ipython",
    "version": 2
   },
   "file_extension": ".py",
   "mimetype": "text/x-python",
   "name": "python",
   "nbconvert_exporter": "python",
   "pygments_lexer": "ipython2",
   "version": "2.7.11"
  }
 },
 "nbformat": 4,
 "nbformat_minor": 0
}
