{
 "cells": [
  {
   "cell_type": "markdown",
   "metadata": {},
   "source": [
    "# Time-Killer Experiments"
   ]
  },
  {
   "cell_type": "markdown",
   "metadata": {},
   "source": [
    "## Dependencies"
   ]
  },
  {
   "cell_type": "code",
   "execution_count": 134,
   "metadata": {
    "collapsed": false,
    "scrolled": false
   },
   "outputs": [],
   "source": [
    "#import seaborn as sns\n",
    "import pandas as pd\n",
    "import numpy as np\n",
    "import matplotlib as mpl\n",
    "import matplotlib.pyplot as plt\n",
    "import os\n",
    "%matplotlib inline\n",
    "\n",
    "from math import sqrt\n",
    "SPINE_COLOR = 'gray'"
   ]
  },
  {
   "cell_type": "markdown",
   "metadata": {},
   "source": [
    "## Latex Style (Optional)"
   ]
  },
  {
   "cell_type": "code",
   "execution_count": 203,
   "metadata": {
    "collapsed": false
   },
   "outputs": [
    {
     "ename": "SyntaxError",
     "evalue": "invalid syntax (<ipython-input-203-2ff5fabbe8d9>, line 1)",
     "output_type": "error",
     "traceback": [
      "\u001b[0;36m  File \u001b[0;32m\"<ipython-input-203-2ff5fabbe8d9>\"\u001b[0;36m, line \u001b[0;32m1\u001b[0m\n\u001b[0;31m    <!-- hide code\u001b[0m\n\u001b[0m    ^\u001b[0m\n\u001b[0;31mSyntaxError\u001b[0m\u001b[0;31m:\u001b[0m invalid syntax\n"
     ]
    }
   ],
   "source": [
    "<!-- hide code\n",
    "# Style parameters\n",
    "pd.set_option('display.mpl_style', 'default') \n",
    "pd.set_option('display.width', 5000) \n",
    "pd.set_option('display.max_columns', 50)\n",
    "pd.options.display.mpl_style = 'default'\n",
    "new_style = {'grid': True}\n",
    "mpl.rc('axes', **new_style)\n",
    "\n",
    "# cool colors\n",
    "tableau20 = [(31, 119, 180), (174, 199, 232), (255, 127, 14), (255, 187, 120),    \n",
    "             (44, 160, 44), (152, 223, 138), (214, 39, 40), (255, 152, 150),    \n",
    "             (148, 103, 189), (197, 176, 213), (140, 86, 75), (196, 156, 148),    \n",
    "             (227, 119, 194), (247, 182, 210), (127, 127, 127), (199, 199, 199),    \n",
    "             (188, 189, 34), (219, 219, 141), (23, 190, 207), (158, 218, 229)]  \n",
    "\n",
    "#font = {'family' : 'normal',\n",
    "#        'weight' : 'bold',\n",
    "#        'size'   : 10}\n",
    "\n",
    "#mpl.rc('font', **font)\n",
    "\n",
    "#Direct input \n",
    "plt.rcParams['text.latex.preamble']=[r\"\\usepackage{lmodern}\"]\n",
    "#Options\n",
    "params = {'text.usetex' : True,\n",
    "          'font.size' : 10,\n",
    "          'font.family' : 'lmodern',\n",
    "          'text.latex.unicode': True,\n",
    "          }\n",
    "plt.rcParams.update(params) \n",
    "fig = plt.figure()\n",
    "\n",
    "#You must select the correct size of the plot in advance\n",
    "#fig.set_size_inches(3.54,3.54) \n",
    "\n",
    "def legendaryFormat(leg, resize=True):\n",
    "    # The frame is matplotlib.patches.Rectangle instance surrounding the legend.\n",
    "    frame = legend.get_frame()\n",
    "    frame.set_facecolor('white')\n",
    "    frame.set_edgecolor('white')\n",
    "\n",
    "    # Set the fontsize\n",
    "    if(resize):\n",
    "        for label in legend.get_texts():\n",
    "            label.set_fontsize('large')\n",
    "        for label in legend.get_lines():\n",
    "            label.set_linewidth(2)  # the legend line width\n",
    "        \n",
    "        \n",
    "def latexify(fig_width=None, fig_height=None, columns=1):\n",
    "    \"\"\"Set up matplotlib's RC params for LaTeX plotting.\n",
    "    Call this before plotting a figure.\n",
    "\n",
    "    Parameters\n",
    "    ----------\n",
    "    fig_width : float, optional, inches\n",
    "    fig_height : float,  optional, inches\n",
    "    columns : {1, 2}\n",
    "    \"\"\"\n",
    "\n",
    "    # code adapted from http://www.scipy.org/Cookbook/Matplotlib/LaTeX_Examples\n",
    "\n",
    "    # Width and max height in inches for IEEE journals taken from\n",
    "    # computer.org/cms/Computer.org/Journal%20templates/transactions_art_guide.pdf\n",
    "\n",
    "    assert(columns in [1,2])\n",
    "\n",
    "    if fig_width is None:\n",
    "        fig_width = 3.39 if columns==1 else 6.9 # width in inches\n",
    "\n",
    "    if fig_height is None:\n",
    "        golden_mean = (sqrt(5)-1.0)/2.0    # Aesthetic ratio\n",
    "        fig_height = fig_width*golden_mean # height in inches\n",
    "\n",
    "    MAX_HEIGHT_INCHES = 8.0\n",
    "    if fig_height > MAX_HEIGHT_INCHES:\n",
    "        print(\"WARNING: fig_height too large:\" + fig_height + \n",
    "              \"so will reduce to\" + MAX_HEIGHT_INCHES + \"inches.\")\n",
    "        fig_height = MAX_HEIGHT_INCHES\n",
    "\n",
    "    params = {'backend': 'ps',\n",
    "              'text.latex.preamble': ['\\usepackage{gensymb}'],\n",
    "              'axes.labelsize': 8, # fontsize for x and y labels (was 10)\n",
    "              'axes.titlesize': 10,\n",
    "              'text.fontsize': 9, # was 10\n",
    "              'legend.fontsize': 8, # was 10\n",
    "              'xtick.labelsize': 8,\n",
    "              'ytick.labelsize': 8,\n",
    "              'font.family' : 'helvetica',\n",
    "              'text.usetex': True,\n",
    "              'figure.figsize': [fig_width,fig_height],\n",
    "              'font.family': 'serif'\n",
    "    }\n",
    "\n",
    "    mpl.rcParams.update(params)\n",
    "\n",
    "\n",
    "def format_axes(ax):\n",
    "\n",
    "    for spine in ['top', 'right']:\n",
    "        ax.spines[spine].set_visible(False)\n",
    "\n",
    "    for spine in ['left', 'bottom']:\n",
    "        ax.spines[spine].set_color(SPINE_COLOR)\n",
    "        ax.spines[spine].set_linewidth(0.5)\n",
    "\n",
    "    ax.xaxis.set_ticks_position('bottom')\n",
    "    ax.yaxis.set_ticks_position('left')\n",
    "\n",
    "    for axis in [ax.xaxis, ax.yaxis]:\n",
    "        axis.set_tick_params(direction='out', color=SPINE_COLOR)\n",
    "\n",
    "    return ax\n",
    "end hide code -->"
   ]
  },
  {
   "cell_type": "code",
   "execution_count": 56,
   "metadata": {
    "collapsed": true
   },
   "outputs": [],
   "source": [
    "%matplotlib inline"
   ]
  },
  {
   "cell_type": "code",
   "execution_count": 57,
   "metadata": {
    "collapsed": false
   },
   "outputs": [
    {
     "name": "stderr",
     "output_type": "stream",
     "text": [
      "/Users/carbone/anaconda/lib/python2.7/site-packages/matplotlib/__init__.py:855: UserWarning: text.fontsize is deprecated and replaced with font.size; please use the latter.\n",
      "  warnings.warn(self.msg_depr % (key, alt_key))\n"
     ]
    }
   ],
   "source": [
    "#run for latex-optimised generation\n",
    "latexify()"
   ]
  },
  {
   "cell_type": "markdown",
   "metadata": {},
   "source": [
    "## Data Preparation & Cleaning"
   ]
  },
  {
   "cell_type": "code",
   "execution_count": 202,
   "metadata": {
    "collapsed": false
   },
   "outputs": [],
   "source": [
    "dataDirs = filter(lambda y: [s for s in y[2] if \".csv\" in s],([x for x in os.walk(\"experiments\")]))\n",
    "dataDirs\n",
    "\n",
    "def enrich(str, df):\n",
    "    dirs = str.split('/');\n",
    "    df['experiment'] = dirs[2];\n",
    "    df['system'] = dirs[1];\n",
    "    return df\n",
    "\n",
    "DF = reduce(lambda r1,r2: pd.concat([r1,r2]), \n",
    "         map(lambda d: enrich(d[0],  \n",
    "                reduce(lambda f1,f2: pd.concat([f1,f2]),\n",
    "                map(lambda x: pd.read_csv(d[0] +'/'+ x, delimiter=',', index_col=[1]),\n",
    "                    filter(lambda y: \".csv\" in y ,d[2])))), dataDirs))\n",
    "\n",
    "DF['local time'] = DF['local_End'] - DF['window_Start']\n",
    "DF['notif time'] = DF['window_End'] - DF['local_End']\n",
    "DF['full time'] = DF['window_End'] - DF['window_Start']\n",
    "DF['parallelism'] = DF.index\n",
    "DF['step'] = DF['step'] - 1\n",
    "DF = DF[(DF['step'] > 0) & (DF['step'] < 999999999)]"
   ]
  },
  {
   "cell_type": "markdown",
   "metadata": {},
   "source": [
    "#Visualization"
   ]
  },
  {
   "cell_type": "markdown",
   "metadata": {},
   "source": [
    "## Overall Times"
   ]
  },
  {
   "cell_type": "code",
   "execution_count": null,
   "metadata": {
    "collapsed": true
   },
   "outputs": [],
   "source": []
  },
  {
   "cell_type": "markdown",
   "metadata": {},
   "source": [
    "## Exploration"
   ]
  },
  {
   "cell_type": "code",
   "execution_count": 198,
   "metadata": {
    "collapsed": false
   },
   "outputs": [
    {
     "data": {
      "image/png": "[encoded data removed]",
      "text/plain": [
       "<matplotlib.figure.Figure at 0x10b35fad0>"
      ]
     },
     "metadata": {},
     "output_type": "display_data"
    }
   ],
   "source": [
    "#timelyCC = DF[(DF['experiment'] == 'cc') & (DF['system'] == 'timely') & (DF['notif time'] < 5000)]    \n",
    "watermarksCC = DF[(DF['experiment'] == 'pagerank') & (DF['system'] == 'timely')& (DF['full time'] < 5000)  & (DF['step'] > 1)] \n",
    "#watermarksCC = DF[ (DF['system'] == 'watermarks')& (DF['notif time'] < 2000)] \n",
    "\n",
    "#timelyCC.boxplot(column='notif time', by='ctxid', meanline=True, showmeans=True, showcaps=True, showbox=True, showfliers=True)\n",
    "\n",
    "#watermarksCC.boxplot(column='notif time', by='ctxid', meanline=True, showmeans=True, showcaps=True, showbox=True, showfliers=True)\n",
    "\n",
    "watermarksCC.boxplot(column='notif time', by='operatorID', meanline=True, showmeans=True, showcaps=True, showbox=True, showfliers=True)\n",
    "\n",
    "#DFU = byWindow.unstack('ctxid');\n",
    "\n",
    "#fig, axes = subplots('notif time');\n",
    "\n",
    "#ax = DFU['notif time'].boxplot(subplots = True, meanline=True, showmeans=True, showcaps=True, showbox=True, showfliers=True)\n",
    "\n",
    "\n",
    "axes = plt.gca()\n",
    "#axes.set_ylim([0,90000])\n",
    "\n",
    "\n",
    "plt.tight_layout()\n",
    "plt.ylabel('Time (msec)')\n",
    "plt.savefig('expnotif2.pdf', bbox_inches='tight')\n"
   ]
  },
  {
   "cell_type": "code",
   "execution_count": 195,
   "metadata": {
    "collapsed": false
   },
   "outputs": [
    {
     "data": {
      "image/png": "[encoded data removed]",
      "text/plain": [
       "<matplotlib.figure.Figure at 0x108f35d50>"
      ]
     },
     "metadata": {},
     "output_type": "display_data"
    }
   ],
   "source": [
    "#timelyCC = DF[(DF['experiment'] == 'cc') & (DF['system'] == 'timely') & (DF['notif time'] < 5000)]    \n",
    "watermarksCC = DF[(DF['experiment'] == 'pagerank') & (DF['system'] == 'watermarks')& (DF['full time'] < 5000) \n",
    "                  & (DF['step'] != 9223372036854775807)  & (DF['step'] > 1)] \n",
    "\n",
    "#watermarksCC = DF[ (DF['system'] == 'watermarks')& (DF['notif time'] < 2000)] \n",
    "\n",
    "#timelyCC.boxplot(column='notif time', by='ctxid', meanline=True, showmeans=True, showcaps=True, showbox=True, showfliers=True)\n",
    "\n",
    "#watermarksCC.boxplot(column='notif time', by='ctxid', meanline=True, showmeans=True, showcaps=True, showbox=True, showfliers=True)\n",
    "\n",
    "watermarksCC.boxplot(column='notif time', by='operatorID', meanline=True, showmeans=True, showcaps=True, showbox=True, showfliers=True)\n",
    "\n",
    "#DFU = byWindow.unstack('ctxid');\n",
    "\n",
    "#fig, axes = subplots('notif time');\n",
    "\n",
    "#ax = DFU['notif time'].boxplot(subplots = True, meanline=True, showmeans=True, showcaps=True, showbox=True, showfliers=True)\n",
    "\n",
    "\n",
    "axes = plt.gca()\n",
    "#axes.set_ylim([0,90000])\n",
    "\n",
    "\n",
    "plt.tight_layout()\n",
    "plt.ylabel('Time (msec)')\n",
    "plt.savefig('expnotif2.pdf', bbox_inches='tight')\n"
   ]
  },
  {
   "cell_type": "code",
   "execution_count": 110,
   "metadata": {
    "collapsed": false
   },
   "outputs": [
    {
     "data": {
      "image/png": "[encoded data removed]",
      "text/plain": [
       "<matplotlib.figure.Figure at 0x10ad89310>"
      ]
     },
     "metadata": {},
     "output_type": "display_data"
    }
   ],
   "source": [
    "exectime = DF[['CP_TIME']]\n",
    "ax = exectime.plot(kind='bar', legend = False, color = tableau20[0])\n",
    "ax.set_xlabel(\"Global State Size (GB)\")\n",
    "ax.set_ylabel(\"Total Snapshotting Time (sec)\")\n",
    "ax.set_axis_bgcolor('white')\n",
    "\n",
    "format_axes(ax)\n",
    "plt.tight_layout()\n",
    "fig = ax.get_figure()\n",
    "fig.savefig('cp1time.pdf')"
   ]
  },
  {
   "cell_type": "code",
   "execution_count": 111,
   "metadata": {
    "collapsed": false
   },
   "outputs": [
    {
     "data": {
      "image/png": "[encoded data removed]",
      "text/plain": [
       "<matplotlib.figure.Figure at 0x109a5a610>"
      ]
     },
     "metadata": {},
     "output_type": "display_data"
    }
   ],
   "source": [
    "exectime = DF[['ALIGN_TOTAL']]\n",
    "ax = exectime.plot(kind='bar', legend = False, color = tableau20[0])\n",
    "ax.set_xlabel(\"Global State Size (GB)\")\n",
    "ax.set_ylabel(\"Total Alignment Time (msec)\")\n",
    "ax.set_axis_bgcolor('white')\n",
    "\n",
    "format_axes(ax)\n",
    "plt.tight_layout()\n",
    "fig = ax.get_figure()\n",
    "fig.savefig('cp2time.pdf')"
   ]
  },
  {
   "cell_type": "code",
   "execution_count": 112,
   "metadata": {
    "collapsed": false
   },
   "outputs": [
    {
     "data": {
      "image/png": "[encoded data removed]",
      "text/plain": [
       "<matplotlib.figure.Figure at 0x1090a1590>"
      ]
     },
     "metadata": {},
     "output_type": "display_data"
    }
   ],
   "source": [
    "merges = DF2[['ALIGN_PROC', 'ALIGN_WIN', 'ALIGN_OUT']]\n",
    "ax = merges.plot(kind='bar',stacked=True, rot=1, legend=False,color = [tableau20[1],tableau20[5],tableau20[9]])\n",
    "ax.set_xlabel(\"Parallelism\")\n",
    "ax.set_ylabel(\"Total Alignment Time (msec)\")\n",
    "#ax.set_ylim(30000000,37000000)\n",
    "plt.xticks(rotation=0)\n",
    "ax2 = ax\n",
    "ax.set_axis_bgcolor('white')\n",
    "#DF['SUM-B2B-RED'] = DF[['AGG-B2B-E-UPDATE']] + DF[['AGG-B2B-E-MERGE']]\n",
    "#reduces = DF['SUM-B2B-RED']\n",
    "#reduces.columns = ['total-agg']\n",
    "\n",
    "#ax2.plot(ax.get_xticks(),DF[['RED2-B2B-E']],linestyle='-', marker='o',linewidth=2)\n",
    "\n",
    "#ax3 = DF[['RED-B2B-E']].plot(linestyle='-', marker='o', legend=True)\n",
    "ax2.set_ylim(ax.get_ylim())\n",
    "\n",
    "#ax2.set_yticklabels(['{:4.1f}k'.format(x/1000000) for x in vals])\n",
    "#legend\n",
    "#lines, labels = ax.get_legend_handles_labels()\n",
    "#lines2, labels2 = ax3.get_legend_handles_labels()\n",
    "legend = ax2.legend(['PROC', 'WIN', 'OUT'], loc=0)\n",
    "#legendaryFormat(legend,resize=False)\n",
    "\n",
    "format_axes(ax)\n",
    "plt.tight_layout()\n",
    "fig = ax2.get_figure()\n",
    "fig.savefig('exp2times.pdf')"
   ]
  },
  {
   "cell_type": "code",
   "execution_count": null,
   "metadata": {
    "collapsed": true
   },
   "outputs": [],
   "source": []
  },
  {
   "cell_type": "code",
   "execution_count": null,
   "metadata": {
    "collapsed": true
   },
   "outputs": [],
   "source": []
  }
 ],
 "metadata": {
  "kernelspec": {
   "display_name": "Python 2",
   "language": "python",
   "name": "python2"
  },
  "language_info": {
   "codemirror_mode": {
    "name": "ipython",
    "version": 2
   },
   "file_extension": ".py",
   "mimetype": "text/x-python",
   "name": "python",
   "nbconvert_exporter": "python",
   "pygments_lexer": "ipython2",
   "version": "2.7.11"
  }
 },
 "nbformat": 4,
 "nbformat_minor": 0
}
